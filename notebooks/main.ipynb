{
 "cells": [
  {
   "cell_type": "code",
   "execution_count": 8,
   "id": "bf5e78aa",
   "metadata": {},
   "outputs": [
    {
     "name": "stdout",
     "output_type": "stream",
     "text": [
      "c:\\equivarianceWork\\clifford-group-equivariant-neural-networks\n"
     ]
    }
   ],
   "source": [
    "%cd .."
   ]
  },
  {
   "cell_type": "code",
   "execution_count": 42,
   "id": "8ebf1216",
   "metadata": {},
   "outputs": [],
   "source": [
    "import numpy as np\n",
    "import matplotlib.pyplot as plt\n",
    "plt.axis('equal')\n",
    "\n",
    "import torch\n",
    "torch.set_default_dtype(torch.float64)\n",
    "\n",
    "from models.modules.fcgp import FullyConnectedSteerableGeometricProductLayer\n",
    "from models.modules.gp import SteerableGeometricProductLayer\n",
    "from models.modules.linear import MVLinear\n",
    "from models.modules.mvsilu import MVSiLU\n",
    "from models.modules.mvlayernorm import MVLayerNorm\n",
    "\n",
    "from algebra.cliffordalgebra import CliffordAlgebra"
   ]
  },
  {
   "cell_type": "code",
   "execution_count": 110,
   "id": "169f2910",
   "metadata": {},
   "outputs": [],
   "source": [
    "algebra = CliffordAlgebra((1.,1., 1., -1.)) # \"three consecutive basis 1-vectors squaring to 1, one squaring to -1\"\n",
    "\n",
    "looseBound = 10.\n",
    "\n",
    "def simpleRotor(s, e12=0.,e13=0.,e14=0.,e23=0.,e24=0.,e34=0.):\n",
    "    return \\\n",
    "        algebra.embed_grade( torch.tensor([0.5]), 0) + \\\n",
    "        algebra.embed_grade( torch.tensor([0.5,0.,0.,0.,0.,0.]), 2)\n",
    "def make1Vec(a=0.,b=0.,c=0.,d=0.):\n",
    "    return algebra.embed_grade( torch.tensor([a,b,c,d]), 1)\n",
    "\n",
    "def makeRotPt(arr):\n",
    "    return algebra.embed_grade( torch.tensor([1.,arr[0],arr[0],arr[1],arr[1],0.]), 2)\n",
    "def makeScalePt(arr):\n",
    "    return algebra.embed_grade( torch.tensor([0.,-arr[1],-arr[1],arr[0],arr[0],1.]), 2)\n",
    "def rotPtToArr(rotPt):\n",
    "    return [ (rotPt[6]+rotPt[7]) * 0.5 / rotPt[5], (rotPt[8]+rotPt[9]) * 0.5 / rotPt[5]]\n",
    "\n",
    "\n",
    "def reverseMv(a):\n",
    "    return torch.tensor([a[0],a[1],a[2],a[3],a[4],-a[5],-a[6],-a[7],-a[8],-a[9],-a[10],-a[11],-a[12],-a[13],-a[14],a[15]])\n",
    "def sw(a,b):\n",
    "    return algebra.geometric_product(algebra.geometric_product(a,b),reverseMv(a)) \n",
    "\n",
    "def generateRandomRotor():\n",
    "\n",
    "    # TODO not homogeneous\n",
    "    translationX = looseBound * (torch.rand(1)-0.5)\n",
    "    translationY = looseBound * (torch.rand(1)-0.5)\n",
    "    translation = simpleRotor(1., 0., translationX, translationX, translationY, translationY, 0.)\n",
    "\n",
    "    angle = torch.rand(1) * np.pi\n",
    "    rotPtX = looseBound * (torch.rand(1)-0.5)\n",
    "    rotPtY = looseBound * (torch.rand(1)-0.5)\n",
    "    rotation = algebra.embed_grade( torch.tensor([np.cos(angle)]), 0) + np.sin(angle) * makeRotPt([rotPtX,rotPtY])\n",
    "    \n",
    "    scaleFactor = torch.rand(1)\n",
    "    scalePtX = looseBound * (torch.rand(1)-0.5)\n",
    "    scalePtY = looseBound * (torch.rand(1)-0.5)\n",
    "    scale = algebra.embed_grade( torch.tensor([np.cosh(scaleFactor)]), 0) + np.sinh(scaleFactor) * makeScalePt([scalePtX, scalePtY])\n",
    "\n",
    "    return algebra.geometric_product(translation, algebra.geometric_product(rotation, scale))\n",
    "\n",
    "\n",
    "# a = torch.tensor([0.,0.,1.,0.,0.,0.,0.,0.,0.,0.,0.,0.,0.,0.,0.,0.])\n",
    "# b = torch.tensor([0.,1.,0.,0.,0.,0.,0.,0.,0.,0.,0.,0.,0.,0.,0.,0.])\n",
    "\n",
    "# algebra.geometric_product(a,b)"
   ]
  },
  {
   "cell_type": "code",
   "execution_count": 129,
   "id": "77afee55",
   "metadata": {},
   "outputs": [
    {
     "name": "stdout",
     "output_type": "stream",
     "text": [
      "tensor([ 4.4409e-16,  0.0000e+00,  0.0000e+00,  0.0000e+00,  0.0000e+00,\n",
      "         5.0000e-01, -4.7625e+00, -4.7625e+00,  2.5273e+00,  2.5273e+00,\n",
      "         8.8818e-16,  0.0000e+00,  0.0000e+00,  0.0000e+00,  0.0000e+00,\n",
      "         4.4964e-15])\n",
      "tensor([ 4.4409e-16,  0.0000e+00,  0.0000e+00,  0.0000e+00,  0.0000e+00,\n",
      "         5.0000e-01, -5.2456e+00, -5.2456e+00,  2.9442e+00,  2.9442e+00,\n",
      "         1.3323e-15,  0.0000e+00,  0.0000e+00,  0.0000e+00,  0.0000e+00,\n",
      "         4.4409e-15])\n",
      "tensor([-4.4409e-16,  0.0000e+00,  0.0000e+00,  0.0000e+00,  0.0000e+00,\n",
      "         5.0000e-01, -5.6624e+00, -5.6624e+00,  2.4611e+00,  2.4611e+00,\n",
      "        -3.3307e-16,  0.0000e+00,  0.0000e+00,  0.0000e+00,  0.0000e+00,\n",
      "        -2.6368e-15])\n",
      "tensor([-4.4409e-16,  0.0000e+00,  0.0000e+00,  0.0000e+00,  0.0000e+00,\n",
      "         5.0000e-01, -5.1793e+00, -5.1793e+00,  2.0442e+00,  2.0442e+00,\n",
      "        -4.4409e-16,  0.0000e+00,  0.0000e+00,  0.0000e+00,  0.0000e+00,\n",
      "        -2.6090e-15])\n"
     ]
    },
    {
     "data": {
      "text/plain": [
       "<matplotlib.collections.PathCollection at 0x236598cf820>"
      ]
     },
     "execution_count": 129,
     "metadata": {},
     "output_type": "execute_result"
    },
    {
     "data": {
      "image/png": "[encoded data removed]",
      "text/plain": [
       "<Figure size 640x480 with 1 Axes>"
      ]
     },
     "metadata": {},
     "output_type": "display_data"
    }
   ],
   "source": [
    "squareVerts = np.array([[-1,-1],[1,-1],[1,1],[-1,1]])\n",
    "\n",
    "# print(rotPtToArr(makeRotPt([3.3,7.1])))\n",
    "\n",
    "rotor = generateRandomRotor()\n",
    "\n",
    "newVerts = np.array([[0,0],[0,0],[0,0],[0,0]])\n",
    "for i in range(0,4):\n",
    "    vert = squareVerts[i]\n",
    "\n",
    "    makeRotPt(vert)\n",
    "\n",
    "    newRotPt = sw(rotor, makeRotPt(vert))\n",
    "    print(newRotPt)\n",
    "\n",
    "    newVerts[i] = rotPtToArr(newRotPt)\n",
    "\n",
    "plt.scatter(newVerts[:,0], newVerts[:,1])\n"
   ]
  },
  {
   "cell_type": "markdown",
   "id": "18d8870e",
   "metadata": {},
   "source": [
    "## Project ideas\n",
    "-Maybe use SGA\n",
    "\n",
    "## Aesthetic preferences\n",
    "Fuuuuuuuuck non-versors!!! Wanna stay in even/odd subalgebra, maybe even in the k-reflections\n",
    "So you EITHER have a 2k-reflection as input and output OR a 2k+1-reflection, and all the way along the layers\n",
    "And each layer composes you with another 2k-reflection, possibly acquired from exponentiating a bivector\n",
    "\n",
    "\n",
    "Generate files, all in one folder. Named _rotated, _scaled, _translated\n",
    "\"Pictures\" are just coordinates, separated by spaces with the points separated by line breaks. No boundaries, which is nice\n",
    "Each pic has 4 vertices, that's all\n",
    "Generate one \"picture\" of a square. Apply a random rotation/translation/scale to it\n",
    "Generate again, add varying level of noise, do lots of random rotations and translations and scales"
   ]
  }
 ],
 "metadata": {
  "kernelspec": {
   "display_name": "Python 3 (ipykernel)",
   "language": "python",
   "name": "python3"
  },
  "language_info": {
   "codemirror_mode": {
    "name": "ipython",
    "version": 3
   },
   "file_extension": ".py",
   "mimetype": "text/x-python",
   "name": "python",
   "nbconvert_exporter": "python",
   "pygments_lexer": "ipython3",
   "version": "3.8.19"
  }
 },
 "nbformat": 4,
 "nbformat_minor": 5
}
